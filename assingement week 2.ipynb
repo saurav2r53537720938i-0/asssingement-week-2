{
 "cells": [
  {
   "cell_type": "markdown",
   "id": "2a21e1cc-e0b1-4b09-bad0-2093d6a6bd0b",
   "metadata": {},
   "source": [
    "by using symbol # we write comment in python"
   ]
  },
  {
   "cell_type": "code",
   "execution_count": 1,
   "id": "c01650f9-3eef-4d57-a1a5-0bc0ae85053b",
   "metadata": {},
   "outputs": [],
   "source": [
    "#himanshu singh\n",
    "#manisha dubey"
   ]
  },
  {
   "cell_type": "raw",
   "id": "5a8b0b05-cc70-4419-b081-e87717ba8eed",
   "metadata": {},
   "source": [
    "there are two types of comment in python\n",
    "\n",
    "1.single line comment\n",
    "2.multiple line comment"
   ]
  },
  {
   "cell_type": "markdown",
   "id": "c2781759-c1f5-4444-9817-5d5030b1ca42",
   "metadata": {},
   "source": [
    "2.variables are simply containers for storing data value"
   ]
  },
  {
   "cell_type": "code",
   "execution_count": 2,
   "id": "14a5ea9a-de46-40cc-a237-0c13da0b8aaa",
   "metadata": {},
   "outputs": [],
   "source": [
    "a = 10"
   ]
  },
  {
   "cell_type": "code",
   "execution_count": 3,
   "id": "1b622209-ce00-4d08-bebc-d52c1c2472ca",
   "metadata": {},
   "outputs": [
    {
     "data": {
      "text/plain": [
       "10"
      ]
     },
     "execution_count": 3,
     "metadata": {},
     "output_type": "execute_result"
    }
   ],
   "source": [
    "a"
   ]
  },
  {
   "cell_type": "code",
   "execution_count": 4,
   "id": "65b3ccb3-5ac8-4ad5-87f4-95fdba685098",
   "metadata": {},
   "outputs": [],
   "source": [
    "b =\"himanshu\""
   ]
  },
  {
   "cell_type": "code",
   "execution_count": 5,
   "id": "1bce6684-05f2-4b30-bb81-10d00e725c28",
   "metadata": {},
   "outputs": [
    {
     "data": {
      "text/plain": [
       "'himanshu'"
      ]
     },
     "execution_count": 5,
     "metadata": {},
     "output_type": "execute_result"
    }
   ],
   "source": [
    "b"
   ]
  },
  {
   "cell_type": "markdown",
   "id": "2a1ebba1-7a78-44a0-bf25-b7949150468c",
   "metadata": {},
   "source": [
    "python defines type conversion function like int(),float(),str(),to directly convert one data type into another"
   ]
  },
  {
   "cell_type": "code",
   "execution_count": 7,
   "id": "ecf63b3c-7a24-41a8-998f-eea75851c6e0",
   "metadata": {},
   "outputs": [],
   "source": [
    "num_str =\"42\"\n",
    "num_int =int(num_str)"
   ]
  },
  {
   "cell_type": "code",
   "execution_count": 8,
   "id": "0c2dffc5-ff6d-46d8-ac5f-aadb638d5969",
   "metadata": {},
   "outputs": [],
   "source": [
    "num_str=\"3.14\"\n",
    "num_float =float(num_str)"
   ]
  },
  {
   "cell_type": "code",
   "execution_count": 9,
   "id": "33120679-cb69-4363-b03e-d86b4aee6cdd",
   "metadata": {},
   "outputs": [],
   "source": [
    "num = 42\n",
    "num_str=str(num)"
   ]
  },
  {
   "cell_type": "code",
   "execution_count": 10,
   "id": "ad912456-c3ae-4c5e-816d-d920dff6566c",
   "metadata": {},
   "outputs": [],
   "source": [
    "num =0\n",
    "bool_value =bool(num)"
   ]
  },
  {
   "cell_type": "code",
   "execution_count": 11,
   "id": "01e15739-0a1b-438f-aa91-6f843b26c0de",
   "metadata": {},
   "outputs": [],
   "source": [
    "my_list =[1,2,3]\n",
    "my_tuple=tuple(my_list)\n",
    "my_set =set(my_list)"
   ]
  },
  {
   "cell_type": "code",
   "execution_count": 12,
   "id": "b492daa3-10db-4386-aa66-33067d717fa5",
   "metadata": {},
   "outputs": [
    {
     "name": "stdout",
     "output_type": "stream",
     "text": [
      "hello,python!\n"
     ]
    }
   ],
   "source": [
    "print(\"hello,python!\")"
   ]
  },
  {
   "cell_type": "markdown",
   "id": "eb0cfa3e-1694-4449-b361-930e17045fd2",
   "metadata": {},
   "source": [
    "open command line (terminal or command prompt)"
   ]
  },
  {
   "cell_type": "markdown",
   "id": "325dedea-cef9-479e-9230-226c482ba010",
   "metadata": {},
   "source": [
    "python myscript.py"
   ]
  },
  {
   "cell_type": "markdown",
   "id": "a2c33b9e-f764-41ef-aa7f-3ba9a14d2747",
   "metadata": {},
   "source": [
    "python3 myscript.py"
   ]
  },
  {
   "cell_type": "code",
   "execution_count": 13,
   "id": "73fd858b-e541-4905-9ae9-ad2a6aae3bc2",
   "metadata": {},
   "outputs": [],
   "source": [
    "my_list=[1,2,3,4,5]"
   ]
  },
  {
   "cell_type": "code",
   "execution_count": 14,
   "id": "c80fb2b4-8885-4858-9ad2-306217d83d70",
   "metadata": {},
   "outputs": [
    {
     "data": {
      "text/plain": [
       "[2, 3]"
      ]
     },
     "execution_count": 14,
     "metadata": {},
     "output_type": "execute_result"
    }
   ],
   "source": [
    "my_list[1:3]"
   ]
  },
  {
   "cell_type": "markdown",
   "id": "00dfff10-ba71-49b4-ac7b-79a1faeb4f09",
   "metadata": {},
   "source": [
    "in mathematics we use i like 6+3i"
   ]
  },
  {
   "cell_type": "markdown",
   "id": "4ec32ebc-1b4f-42cf-9533-9eb22914713d",
   "metadata": {},
   "source": [
    "in python we use j like"
   ]
  },
  {
   "cell_type": "code",
   "execution_count": 15,
   "id": "5a3a2170-a3fd-481c-963f-04db362943cf",
   "metadata": {},
   "outputs": [
    {
     "data": {
      "text/plain": [
       "(6+3j)"
      ]
     },
     "execution_count": 15,
     "metadata": {},
     "output_type": "execute_result"
    }
   ],
   "source": [
    "6+3j"
   ]
  },
  {
   "cell_type": "code",
   "execution_count": 16,
   "id": "6bf11d1a-b5ad-4ff4-b2dc-e9c86a4f84c2",
   "metadata": {},
   "outputs": [],
   "source": [
    "age = 25"
   ]
  },
  {
   "cell_type": "code",
   "execution_count": 17,
   "id": "973cdcd1-d340-42cb-9218-4c715fef54de",
   "metadata": {},
   "outputs": [
    {
     "data": {
      "text/plain": [
       "25"
      ]
     },
     "execution_count": 17,
     "metadata": {},
     "output_type": "execute_result"
    }
   ],
   "source": [
    "age"
   ]
  },
  {
   "cell_type": "code",
   "execution_count": 18,
   "id": "3ce54956-de9b-447b-9045-023945650387",
   "metadata": {},
   "outputs": [],
   "source": [
    "price =9.99"
   ]
  },
  {
   "cell_type": "markdown",
   "id": "cd62e9ee-3112-4361-bd17-6b9fcc77287e",
   "metadata": {},
   "source": [
    "this data type belongs to floating"
   ]
  },
  {
   "cell_type": "code",
   "execution_count": 27,
   "id": "02c1d6f1-e758-4f17-907b-be777782febf",
   "metadata": {},
   "outputs": [],
   "source": [
    "name =\"himanshu singh\""
   ]
  },
  {
   "cell_type": "code",
   "execution_count": 28,
   "id": "f93a95b9-9901-41ca-9224-f826bc7cdd6d",
   "metadata": {},
   "outputs": [],
   "source": [
    "my_str = \"hello,world!\""
   ]
  },
  {
   "cell_type": "code",
   "execution_count": 29,
   "id": "6f0d23eb-e3b0-4bc1-8927-faa6c4397681",
   "metadata": {},
   "outputs": [
    {
     "data": {
      "text/plain": [
       "'world!'"
      ]
     },
     "execution_count": 29,
     "metadata": {},
     "output_type": "execute_result"
    }
   ],
   "source": [
    "my_str[6:]"
   ]
  },
  {
   "cell_type": "code",
   "execution_count": null,
   "id": "7ac46500-b12e-4023-ab23-a37dfca47e06",
   "metadata": {},
   "outputs": [],
   "source": [
    "is_student "
   ]
  }
 ],
 "metadata": {
  "kernelspec": {
   "display_name": "Python 3 (ipykernel)",
   "language": "python",
   "name": "python3"
  },
  "language_info": {
   "codemirror_mode": {
    "name": "ipython",
    "version": 3
   },
   "file_extension": ".py",
   "mimetype": "text/x-python",
   "name": "python",
   "nbconvert_exporter": "python",
   "pygments_lexer": "ipython3",
   "version": "3.10.8"
  }
 },
 "nbformat": 4,
 "nbformat_minor": 5
}
